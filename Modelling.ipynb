{
 "cells": [
  {
   "cell_type": "code",
   "execution_count": 9,
   "metadata": {},
   "outputs": [],
   "source": [
    "import os\n",
    "import gc\n",
    "from random import choice\n",
    "\n",
    "import numpy as np\n",
    "import pandas as pd\n",
    "import matplotlib.pyplot as plt\n",
    "import seaborn as sns\n",
    "from sklearn.metrics import roc_auc_score\n",
    "from scipy.stats import rankdata\n",
    "\n",
    "from mlopt.blending import BlendingGreedyTransformer\n",
    "\n",
    "from preprocessing import preprocessing_gbdt_models, preprocessing_linear_models\n",
    "from feature_engineering import run_feature_engineering\n",
    "import config\n",
    "import models\n",
    "\n",
    "sns.set()"
   ]
  },
  {
   "cell_type": "code",
   "execution_count": null,
   "metadata": {},
   "outputs": [],
   "source": [
    "run_feature_engineering()"
   ]
  },
  {
   "cell_type": "markdown",
   "metadata": {},
   "source": [
    "# LightGBM"
   ]
  },
  {
   "cell_type": "code",
   "execution_count": 3,
   "metadata": {},
   "outputs": [],
   "source": [
    "data = pd.read_feather('data/data.feather')\n",
    "test = pd.read_feather('data/test.feather')\n",
    "\n",
    "y = models.get_y_train()\n",
    "\n",
    "data, test = preprocessing_gbdt_models(data=data, test=test)\n",
    "\n",
    "models.run_lightgbm(data, y, test)"
   ]
  },
  {
   "cell_type": "markdown",
   "metadata": {},
   "source": [
    "# Denoising Autoencoder"
   ]
  },
  {
   "cell_type": "code",
   "execution_count": 3,
   "metadata": {},
   "outputs": [
    {
     "name": "stdout",
     "output_type": "stream",
     "text": [
      "269  flag columns\n",
      "Shapes :  (307511, 867) (48744, 867)\n"
     ]
    }
   ],
   "source": [
    "data = pd.read_feather('data/data.feather')\n",
    "test = pd.read_feather('data/test.feather')\n",
    "\n",
    "data, test = preprocessing_linear_models(data=data, test=test)\n",
    "\n",
    "data.to_feather('predictions/X_train_scaled.feather')\n",
    "test.to_feather('predictions/X_test_scaled.feather')\n",
    "\n",
    "del data, test\n",
    "gc.collect()"
   ]
  },
  {
   "cell_type": "code",
   "execution_count": 46,
   "metadata": {},
   "outputs": [
    {
     "name": "stdout",
     "output_type": "stream",
     "text": [
      "noise reduce after epoch 200: 0.005\n",
      "Shape:  (307511, 875)\n",
      "Starting training...\n",
      "Initialization finished...\n",
      "\n",
      "Epoch 0 \tMSE: 0.02500, layer_1_2 score:0.7480, noise: 0.60\n",
      "Epoch 1 \tMSE: 0.02136, layer_1_2 score:0.7481, noise: 0.60\n",
      "Epoch 50 \tMSE: 0.01814, layer_1_2 score:0.7457, noise: 0.60\n",
      "Epoch 100 \tMSE: 0.01802, layer_1_2 score:0.7474, noise: 0.60\n",
      "Epoch 150 \tMSE: 0.01796, layer_1_2 score:0.7454, noise: 0.60\n",
      "Epoch 200 \tMSE: 0.01768, layer_1_2 score:0.7351, noise: 0.59\n",
      "Epoch 250 \tMSE: 0.00898, layer_1_2 score:0.7696, noise: 0.34\n",
      "Epoch 299 \tMSE: 0.00322, layer_1_2 score:0.7734, noise: 0.10\n",
      "Finished\n"
     ]
    }
   ],
   "source": [
    "X_train_scaled = pd.read_feather('predictions/X_train_scaled.feather')\n",
    "X_test_scaled = pd.read_feather('predictions/X_test_scaled.feather')\n",
    "\n",
    "epochs=300\n",
    "noise_begin=0.6\n",
    "noise_end=0.1\n",
    "noise_reduce_epoch=200\n",
    "noise_reduce_end_epoch=epochs\n",
    "\n",
    "nodes_1 = 1000\n",
    "nodes_2 = 1000\n",
    "nodes_3 = 1000\n",
    "\n",
    "learning_rate= 0.001\n",
    "\n",
    "X_train_activations, X_test_activations, scores = \\\n",
    "    run_autoencoder(X_train_scaled, X_test_scaled, nodes_1, nodes_2, nodes_3, \n",
    "                    learning_rate=learning_rate, epochs=epochs,\n",
    "                    noise_begin=noise_begin, noise_end=noise_end, \n",
    "                    noise_reduce_epoch=noise_reduce_epoch,\n",
    "                    noise_reduce_end_epoch=noise_reduce_end_epoch)\n",
    "\n",
    "X_train_activations, X_test_activations = \\\n",
    "    models.postprocess_autoencoder(X_train_activations, X_test_activations,\n",
    "                                   X_train_scaled, X_test_scaled)\n",
    "    \n",
    "X_train_activations.to_feather('train_activations.feather')\n",
    "X_test_activations.to_feather('test_activations.feather')"
   ]
  },
  {
   "cell_type": "markdown",
   "metadata": {},
   "source": [
    "## Neural net"
   ]
  },
  {
   "cell_type": "code",
   "execution_count": 43,
   "metadata": {},
   "outputs": [],
   "source": [
    "X_train_activations = pd.read_feather('data/train_activations.feather')\n",
    "X_test_activations = pd.read_feather('data/test_activations.feather')"
   ]
  },
  {
   "cell_type": "code",
   "execution_count": null,
   "metadata": {},
   "outputs": [],
   "source": [
    "n_splits = 10\n",
    "\n",
    "dl_params = {'units_1': 500, 'units_2': 500, 'units_3': None, 'opt': 'ftrl', \n",
    "             'learning_rate': 0.01, 'batch_size_multiplier': 2, 'lambda_l2': 0.001,\n",
    "             'layer_0_dropout': 0.0, 'layer_1_dropout': 0.6, \n",
    "             'layer_2_dropout': 0.2,  'layer_3_dropout': 0.0}\n",
    "\n",
    "models.run_nn(X_train=X_train_activations, y_train=y, X_test=X_test_activations, \n",
    "                  n_runs=10, **dl_params)"
   ]
  },
  {
   "cell_type": "markdown",
   "metadata": {},
   "source": [
    "## LightGBM"
   ]
  },
  {
   "cell_type": "code",
   "execution_count": 48,
   "metadata": {},
   "outputs": [
    {
     "data": {
      "text/plain": [
       "14"
      ]
     },
     "execution_count": 48,
     "metadata": {},
     "output_type": "execute_result"
    }
   ],
   "source": [
    "df_train_activations = pd.read_feather('data/train_activations.feather')\n",
    "df_test_activations = pd.read_feather('data/test_activations.feather')\n",
    "\n",
    "y_train = pd.read_csv(path + 'application_train.csv.zip').TARGET\n",
    "\n",
    "models.run_dae_lightgbm(df_train_activations, y_train, df_test_activations, \n",
    "                        learning_rate=0.02, bagging_fraction=0.8, feature_fraction=0.6\n",
    "                        lambda_l1=0.0, lambda_l2=0.01, min_data_in_leaf=32,\n",
    "                        min_sum_hessian_in_leaf=256, min_split_gain=1.0,\n",
    "                        max_bin=256, num_leaves=31)"
   ]
  },
  {
   "cell_type": "markdown",
   "metadata": {},
   "source": [
    "# Ensemble"
   ]
  },
  {
   "cell_type": "code",
   "execution_count": 12,
   "metadata": {},
   "outputs": [
    {
     "name": "stdout",
     "output_type": "stream",
     "text": [
      "Denoising Autoencoder + Neural Net\n",
      "\tAUC: 0.7828 pred_mean: 0.0801 (valid) 0.0781 (test) (DAE + DL, prediction_1)\n",
      "\tAUC: 0.7829 pred_mean: 0.0797 (valid) 0.0774 (test) (DAE + DL, prediction_2)\n",
      "\tAUC: 0.7830 pred_mean: 0.0804 (valid) 0.0786 (test) (DAE + DL, prediction_3)\n",
      "\tAUC: 0.7835 pred_mean: 0.0797 (valid) 0.0777 (test) (DAE + DL, prediction_4)\n",
      "\tAUC: 0.7831 pred_mean: 0.0799 (valid) 0.0782 (test) (DAE + DL, prediction_5)\n",
      "\tAUC: 0.7832 pred_mean: 0.0801 (valid) 0.0782 (test) (DAE + DL, prediction_6)\n",
      "\tAUC: 0.7830 pred_mean: 0.0796 (valid) 0.0788 (test) (DAE + DL, prediction_7)\n",
      "\tAUC: 0.7835 pred_mean: 0.0807 (valid) 0.0784 (test) (DAE + DL, prediction_8)\n",
      "\tAUC: 0.7832 pred_mean: 0.0799 (valid) 0.0784 (test) (DAE + DL, prediction_9)\n",
      "\tAUC: 0.7831 pred_mean: 0.0800 (valid) 0.0796 (test) (DAE + DL, prediction_10)\n",
      "LightGBM\n",
      "\tAUC: 0.7940 pred_mean: 0.0805 (valid) 0.0735 (test) (LGB, prediction_1)\n",
      "\tAUC: 0.7933 pred_mean: 0.0805 (valid) 0.0734 (test) (LGB, prediction_2)\n",
      "\tAUC: 0.7937 pred_mean: 0.0805 (valid) 0.0735 (test) (LGB, prediction_3)\n",
      "\tAUC: 0.7938 pred_mean: 0.0805 (valid) 0.0735 (test) (LGB, prediction_4)\n",
      "\tAUC: 0.7937 pred_mean: 0.0805 (valid) 0.0733 (test) (LGB, prediction_5)\n",
      "\tAUC: 0.7943 pred_mean: 0.0804 (valid) 0.0737 (test) (LGB, prediction_6)\n",
      "\tAUC: 0.7935 pred_mean: 0.0805 (valid) 0.0736 (test) (LGB, prediction_7)\n",
      "\tAUC: 0.7939 pred_mean: 0.0805 (valid) 0.0736 (test) (LGB, prediction_8)\n",
      "\tAUC: 0.7938 pred_mean: 0.0805 (valid) 0.0734 (test) (LGB, prediction_9)\n",
      "\tAUC: 0.7932 pred_mean: 0.0805 (valid) 0.0735 (test) (LGB, prediction_10)\n",
      "Denoising Autoencoder + LightGBM\n",
      "\tAUC: 0.7837 pred_mean: 0.0800 (valid) 0.0739 (test) (DAE + LGB, prediction_1)\n",
      "\tAUC: 0.7841 pred_mean: 0.0801 (valid) 0.0745 (test) (DAE + LGB, prediction_2)\n",
      "\tAUC: 0.7844 pred_mean: 0.0800 (valid) 0.0737 (test) (DAE + LGB, prediction_3)\n",
      "\tAUC: 0.7848 pred_mean: 0.0800 (valid) 0.0746 (test) (DAE + LGB, prediction_4)\n",
      "\tAUC: 0.7848 pred_mean: 0.0800 (valid) 0.0743 (test) (DAE + LGB, prediction_5)\n",
      "\tAUC: 0.7846 pred_mean: 0.0801 (valid) 0.0748 (test) (DAE + LGB, prediction_6)\n",
      "\tAUC: 0.7847 pred_mean: 0.0800 (valid) 0.0745 (test) (DAE + LGB, prediction_7)\n",
      "\tAUC: 0.7855 pred_mean: 0.0800 (valid) 0.0742 (test) (DAE + LGB, prediction_8)\n",
      "\tAUC: 0.7848 pred_mean: 0.0801 (valid) 0.0740 (test) (DAE + LGB, prediction_9)\n",
      "\tAUC: 0.7847 pred_mean: 0.0800 (valid) 0.0741 (test) (DAE + LGB, prediction_10)\n"
     ]
    }
   ],
   "source": [
    "df_preds_dae_dl_valid = pd.read_csv(config.filename_preds_dae_dl_valid)\n",
    "df_preds_lgb_valid = pd.read_csv(config.filename_preds_lgb_valid)\n",
    "df_preds_dae_lgb_valid = pd.read_csv(config.filename_preds_dae_lgb_valid)\n",
    "\n",
    "df_preds_dae_dl_test = pd.read_csv(config.filename_preds_dae_dl_test)\n",
    "df_preds_lgb_test = pd.read_csv(config.filename_preds_lgb_test)\n",
    "df_preds_dae_lgb_test = pd.read_csv(config.filename_preds_dae_lgb_test)\n",
    "\n",
    "y = pd.read_csv(config.path + 'application_train.csv.zip').TARGET\n",
    "\n",
    "print('Denoising Autoencoder + Neural Net')\n",
    "for col in df_preds_dae_dl_valid.columns:\n",
    "    print('\\tAUC: {:0.4f} pred_mean: {:0.4f} (valid) {:0.4f} (test) (DAE + DL, {})'.format(\n",
    "        roc_auc_score(y, df_preds_dae_dl_valid.loc[:, col]), \n",
    "        np.mean(df_preds_dae_dl_valid.loc[:, col]), \n",
    "        np.mean(df_preds_dae_dl_test.loc[:, col]), \n",
    "        col))\n",
    "\n",
    "print('LightGBM')\n",
    "for col in df_preds_lgb_valid.columns:\n",
    "    print('\\tAUC: {:0.4f} pred_mean: {:0.4f} (valid) {:0.4f} (test) (LGB, {})'.format(\n",
    "        roc_auc_score(y, df_preds_lgb_valid.loc[:, col]), \n",
    "        np.mean(df_preds_lgb_valid.loc[:, col]), \n",
    "        np.mean(df_preds_lgb_test.loc[:, col]), \n",
    "        col))\n",
    "\n",
    "print('Denoising Autoencoder + LightGBM')    \n",
    "for col in df_preds_dae_lgb_valid.columns:\n",
    "    print('\\tAUC: {:0.4f} pred_mean: {:0.4f} (valid) {:0.4f} (test) (DAE + LGB, {})'.format(\n",
    "        roc_auc_score(y, df_preds_dae_lgb_valid.loc[:, col]), \n",
    "        np.mean(df_preds_dae_lgb_valid.loc[:, col]), \n",
    "        np.mean(df_preds_dae_lgb_test.loc[:, col]), \n",
    "        col))"
   ]
  },
  {
   "cell_type": "code",
   "execution_count": 25,
   "metadata": {},
   "outputs": [
    {
     "name": "stdout",
     "output_type": "stream",
     "text": [
      "AUC fold 1:\t 0.79428; weights: ['0.10', '1.00', '0.10']\n",
      "AUC fold 2:\t 0.79372; weights: ['0.12', '0.91', '0.08']\n",
      "AUC fold 3:\t 0.79405; weights: ['0.10', '0.88', '0.10']\n",
      "AUC fold 4:\t 0.79417; weights: ['0.13', '0.91', '0.06']\n",
      "AUC fold 5:\t 0.79404; weights: ['0.12', '0.99', '0.07']\n",
      "AUC fold 6:\t 0.79465; weights: ['0.11', '0.92', '0.08']\n",
      "AUC fold 7:\t 0.79386; weights: ['0.11', '0.90', '0.08']\n",
      "AUC fold 8:\t 0.79432; weights: ['0.10', '0.81', '0.09']\n",
      "AUC fold 9:\t 0.79414; weights: ['0.12', '0.98', '0.07']\n",
      "AUC fold 10:\t 0.79358; weights: ['0.11', '0.90', '0.09']\n",
      "\n",
      "Averaged AUC: 0.79469\n"
     ]
    }
   ],
   "source": [
    "dict_preds_blended_valid = {}\n",
    "dict_preds_blended_test = {}\n",
    "dict_blenders = {fold: BlendingGreedyTransformer(metric=roc_auc_score, maximize=True) for fold in range(1, 11)}\n",
    "\n",
    "for fold in range(1, 11):\n",
    "    lst_preds_to_blend_valid = []\n",
    "    lst_preds_to_blend_test = []\n",
    "    weights = []\n",
    "    \n",
    "    if f'prediction_{fold}' in df_preds_dae_dl_valid.columns:\n",
    "        lst_preds_to_blend_valid.append(df_preds_dae_dl_valid.loc[:, f'prediction_{fold}'])\n",
    "        lst_preds_to_blend_test.append(df_preds_dae_dl_test.loc[:, f'prediction_{fold}'])\n",
    "        weights += [0.1]\n",
    "    if f'prediction_{fold}' in df_preds_lgb_valid.columns:\n",
    "        lst_preds_to_blend_valid.append(df_preds_lgb_valid.loc[:, f'prediction_{fold}'])\n",
    "        lst_preds_to_blend_test.append(df_preds_lgb_test.loc[:, f'prediction_{fold}'])\n",
    "        weights += [1.0]\n",
    "    if f'prediction_{fold}' in df_preds_dae_lgb_valid.columns:\n",
    "        lst_preds_to_blend_valid.append(df_preds_dae_lgb_valid.loc[:, f'prediction_{fold}'])\n",
    "        lst_preds_to_blend_test.append(df_preds_dae_lgb_test.loc[:, f'prediction_{fold}'])\n",
    "        weights += [0.1]\n",
    "\n",
    "    dict_blenders[fold].fit(lst_preds_to_blend_valid, y, init_weights=weights)\n",
    "    dict_blenders[fold].fit(lst_preds_to_blend_valid, y, warm_start=True, step_size=0.01)\n",
    "    str_weights = ['{:0.2f}'.format(w) for w in dict_blenders[fold]._weights]\n",
    "                   \n",
    "    dict_preds_blended_valid[fold] = dict_blenders[fold].transform(lst_preds_to_blend_valid)\n",
    "    dict_preds_blended_test[fold] = dict_blenders[fold].transform(lst_preds_to_blend_test)\n",
    "                   \n",
    "    print('AUC fold {}:\\t {:0.5f}; weights: {}' \\\n",
    "          .format(fold, roc_auc_score(y, dict_preds_blended_valid[fold]), str_weights))\n",
    "\n",
    "def preds_mean(dict_preds):\n",
    "    return np.mean(list(dict_preds.values()), axis=0)\n",
    "\n",
    "p_avg = preds_mean(dict_preds_blended_valid)\n",
    "print('\\nAveraged AUC: {:0.5f}'.format(roc_auc_score(y, p_avg)))"
   ]
  },
  {
   "cell_type": "code",
   "execution_count": 146,
   "metadata": {},
   "outputs": [
    {
     "name": "stderr",
     "output_type": "stream",
     "text": [
      "/Users/Pepe/anaconda3/lib/python3.6/site-packages/matplotlib/axes/_axes.py:6462: UserWarning: The 'normed' kwarg is deprecated, and has been replaced by the 'density' kwarg.\n",
      "  warnings.warn(\"The 'normed' kwarg is deprecated, and has been \"\n"
     ]
    },
    {
     "data": {
      "image/png": "[encoded data removed]",
      "text/plain": [
       "<Figure size 864x288 with 1 Axes>"
      ]
     },
     "metadata": {},
     "output_type": "display_data"
    }
   ],
   "source": [
    "plt.figure(figsize=(12, 4))\n",
    "\n",
    "plt.hist(preds_mean(dict_preds_blended_valid), bins=50, label='valid', \n",
    "         normed=True, alpha=0.7, range=(0, 0.5))\n",
    "plt.hist(preds_mean(dict_preds_blended_test), bins=50, label='test', \n",
    "         normed=True, alpha=0.7, range=(0, 0.5))\n",
    "\n",
    "plt.xlabel('prediction')\n",
    "plt.ylabel('Count (normed)')\n",
    "plt.legend()\n",
    "\n",
    "plt.show()"
   ]
  },
  {
   "cell_type": "code",
   "execution_count": 19,
   "metadata": {},
   "outputs": [],
   "source": [
    "submission = pd.read_csv(path + 'sample_submission.csv.zip')['SK_ID_CURR'].to_frame().copy()\n",
    "\n",
    "submission.loc[:, 'TARGET'] = preds_mean(dict_preds_blended_test)\n",
    "\n",
    "submission[['SK_ID_CURR', 'TARGET']].to_csv('submission_blend_{:0.4f}.csv.gz'.format(score),\n",
    "                                            compression='gzip', index=False)"
   ]
  },
  {
   "cell_type": "markdown",
   "metadata": {},
   "source": [
    "## Blend with NeptuneML OpenSolution"
   ]
  },
  {
   "cell_type": "code",
   "execution_count": 28,
   "metadata": {},
   "outputs": [
    {
     "name": "stdout",
     "output_type": "stream",
     "text": [
      "Mean of predictions (train):\t 0.07977527939137002\n",
      "Mean of predictions (test):\t 0.07381664846712335\n",
      "AUC: 0.7952 (neptune)\n"
     ]
    }
   ],
   "source": [
    "preds_neptune_valid = pd.read_csv('predictions/neptune_valid.csv') \\\n",
    "    .pivot(index='SK_ID_CURR', values='lightGBM_prediction', columns='fold_id').mean(axis=1)\n",
    "preds_neptune_test = pd.read_csv('predictions/neptune_test.csv') \\\n",
    "    .pivot(index='SK_ID_CURR', values='lightGBM_prediction', columns='fold_id').mean(axis=1)\n",
    "\n",
    "print('Mean of predictions (train):\\t', np.mean(preds_neptune_valid))\n",
    "print('Mean of predictions (test):\\t', np.mean(preds_neptune_test))\n",
    "\n",
    "score_neptune = roc_auc_score(y, preds_neptune_valid)\n",
    "print('AUC: {:0.4f} (neptune)'.format(score_neptune))"
   ]
  },
  {
   "cell_type": "code",
   "execution_count": 27,
   "metadata": {},
   "outputs": [
    {
     "name": "stdout",
     "output_type": "stream",
     "text": [
      "AUC: 0.7979 (blended)\n"
     ]
    }
   ],
   "source": [
    "weights_neptune = [1.0, 1.0]\n",
    "\n",
    "preds_blended_neptune_valid = np.average([preds_mean(dict_preds_blended_valid), preds_neptune_valid],\n",
    "                                         weights=weights_neptune, axis=0)\n",
    "preds_blended_neptune_test = np.average([preds_mean(dict_preds_blended_test), preds_neptune_test],\n",
    "                                        weights=weights_neptune, axis=0)\n",
    "\n",
    "score_blended_neptune_valid = roc_auc_score(y, preds_blended_neptune_valid)\n",
    "print('AUC: {:0.4f} (blended)'.format(score_blended_neptune_valid))"
   ]
  },
  {
   "cell_type": "code",
   "execution_count": 149,
   "metadata": {},
   "outputs": [],
   "source": [
    "submission = pd.read_csv(path+'sample_submission.csv.zip')['SK_ID_CURR'].to_frame().copy()\n",
    "submission.loc[:, 'TARGET'] = preds_blended_neptune_test\n",
    "\n",
    "submission[['SK_ID_CURR', 'TARGET']] \\\n",
    "    .to_csv('submission_blend_{:0.4f}_blended_with_neptuneOS_{:0.4f}.csv.gz'\\\n",
    "                .format(score, score_blended_neptune_valid),\n",
    "            compression='gzip', index=False)"
   ]
  }
 ],
 "metadata": {
  "kernelspec": {
   "display_name": "Python 3",
   "language": "python",
   "name": "python3"
  },
  "language_info": {
   "codemirror_mode": {
    "name": "ipython",
    "version": 3
   },
   "file_extension": ".py",
   "mimetype": "text/x-python",
   "name": "python",
   "nbconvert_exporter": "python",
   "pygments_lexer": "ipython3",
   "version": "3.6.1"
  }
 },
 "nbformat": 4,
 "nbformat_minor": 2
}
